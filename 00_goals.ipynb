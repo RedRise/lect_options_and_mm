{
 "cells": [
  {
   "cell_type": "markdown",
   "metadata": {},
   "source": [
    "# Objectifs\n",
    "\n",
    "\n",
    "## Comprendre d'où vient le prix d'un Call\n",
    "\n",
    "\n",
    "\n",
    "## Expliquer le lien entre Call et Market Making"
   ]
  }
 ],
 "metadata": {
  "language_info": {
   "name": "python"
  },
  "orig_nbformat": 4
 },
 "nbformat": 4,
 "nbformat_minor": 2
}
