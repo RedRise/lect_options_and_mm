{
 "cells": [
  {
   "cell_type": "markdown",
   "metadata": {},
   "source": [
    "# Objectifs\n",
    "\n",
    "\n",
    "## Comprendre d'où vient le prix d'un Call\n",
    "\n",
    "\n",
    "\n",
    "## Expliquer le lien entre Call et Market Making"
   ]
  },
  {
   "cell_type": "code",
   "execution_count": 12,
   "metadata": {},
   "outputs": [
    {
     "ename": "ImportError",
     "evalue": "attempted relative import with no known parent package",
     "output_type": "error",
     "traceback": [
      "\u001b[1;31m---------------------------------------------------------------------------\u001b[0m",
      "\u001b[1;31mImportError\u001b[0m                               Traceback (most recent call last)",
      "\u001b[1;32mc:\\repos\\lect_options_and_mm\\notebooks\\00_goals.ipynb Cell 2'\u001b[0m in \u001b[0;36m<cell line: 1>\u001b[1;34m()\u001b[0m\n\u001b[1;32m----> <a href='vscode-notebook-cell:/c%3A/repos/lect_options_and_mm/notebooks/00_goals.ipynb#ch0000001?line=0'>1</a>\u001b[0m \u001b[39mfrom\u001b[39;00m \u001b[39m.\u001b[39;00m\u001b[39m.\u001b[39;00m\u001b[39msrc\u001b[39;00m\u001b[39m.\u001b[39;00m\u001b[39mblack_scholes\u001b[39;00m \u001b[39mimport\u001b[39;00m call_payoff, put_payoff\n\u001b[0;32m      <a href='vscode-notebook-cell:/c%3A/repos/lect_options_and_mm/notebooks/00_goals.ipynb#ch0000001?line=2'>3</a>\u001b[0m \u001b[39mprint\u001b[39m(call_payoff(\u001b[39m110\u001b[39m, \u001b[39m100\u001b[39m))\n\u001b[0;32m      <a href='vscode-notebook-cell:/c%3A/repos/lect_options_and_mm/notebooks/00_goals.ipynb#ch0000001?line=3'>4</a>\u001b[0m \u001b[39mprint\u001b[39m(put_payoff(\u001b[39m110\u001b[39m, \u001b[39m100\u001b[39m))\n",
      "\u001b[1;31mImportError\u001b[0m: attempted relative import with no known parent package"
     ]
    }
   ],
   "source": [
    "from ..src.black_scholes import call_payoff, put_payoff\n",
    "\n",
    "print(call_payoff(110, 100))\n",
    "print(put_payoff(110, 100))\n"
   ]
  },
  {
   "cell_type": "code",
   "execution_count": null,
   "metadata": {},
   "outputs": [],
   "source": []
  }
 ],
 "metadata": {
  "interpreter": {
   "hash": "dcf03edc633ddbeb46b3c700d71f3d0bcda85f0c4a4df7a80b3eae9ef38d1f8a"
  },
  "kernelspec": {
   "display_name": "Python 3.10.4 ('options_and_market_making-H_FgDgWw-py3.10')",
   "language": "python",
   "name": "python3"
  },
  "language_info": {
   "codemirror_mode": {
    "name": "ipython",
    "version": 3
   },
   "file_extension": ".py",
   "mimetype": "text/x-python",
   "name": "python",
   "nbconvert_exporter": "python",
   "pygments_lexer": "ipython3",
   "version": "3.10.4"
  },
  "orig_nbformat": 4
 },
 "nbformat": 4,
 "nbformat_minor": 2
}
